{
  "cells": [
    {
      "cell_type": "markdown",
      "metadata": {
        "id": "python-basics-title"
      },
      "source": [
        "# Python Basics Fundamentals\n",
        "\n",
        "This notebook covers the fundamental concepts of Python programming:\n",
        "1. Hello World\n",
        "2. Data Types and Type Checking\n",
        "3. String Manipulation\n",
        "4. Variable Assignment and Types\n",
        "\n",
        "## Learning Objectives\n",
        "- Write your first Python program (Hello World)\n",
        "- Understand different data types in Python\n",
        "- Learn how to check data types at runtime\n",
        "- Master string manipulation and formatting\n",
        "- Practice variable assignment and type conversion"
      ]
    },
    {
      "cell_type": "markdown",
      "metadata": {
        "id": "hello-world-section"
      },
      "source": [
        "## 1. Hello World\n",
        "\n",
        "Let's start with the traditional first program in any programming language."
      ]
    },
    {
      "cell_type": "code",
      "execution_count": null,
      "metadata": {
        "id": "basic-hello-world"
      },
      "outputs": [],
      "source": [
        "# Basic Hello World\n",
        "print(\"Hello, World!\")"
      ]
    },
    {
      "cell_type": "code",
      "execution_count": null,
      "metadata": {
        "id": "hello-world-variables"
      },
      "outputs": [],
      "source": [
        "# Hello World with variables\n",
        "message = \"Hello, World!\"\n",
        "print(message)\n",
        "\n",
        "# Hello World with user input (uncomment to try)\n",
        "# name = input(\"Enter your name: \")\n",
        "# print(f\"Hello, {name}!\")"
      ]
    },
    {
      "cell_type": "code",
      "execution_count": null,
      "metadata": {
        "id": "hello-world-different-ways"
      },
      "outputs": [],
      "source": [
        "# Hello World in different ways\n",
        "print(\"Hello\", \"World\", \"from\", \"Python\")\n",
        "print(\"Hello\" + \" \" + \"World\" + \" \" + \"from\" + \" \" + \"Python\")\n",
        "print(\"Hello {} from {}\".format(\"World\", \"Python\"))\n",
        "print(f\"Hello {'World'} from {'Python'}\")"
      ]
    },
    {
      "cell_type": "markdown",
      "metadata": {
        "id": "data-types-section"
      },
      "source": [
        "## 2. Data Types in Python and How to Get the Type at Runtime\n",
        "\n",
        "Python has several built-in data types. Let's explore them and learn how to check their types."
      ]
    },
    {
      "cell_type": "code",
      "execution_count": null,
      "metadata": {
        "id": "numeric-types"
      },
      "outputs": [],
      "source": [
        "# Integer (int) - Whole numbers\n",
        "age = 25\n",
        "print(f\"Age: {age}, Type: {type(age)}\")\n",
        "\n",
        "# Float (float) - Decimal numbers\n",
        "height = 5.9\n",
        "pi = 3.14159\n",
        "print(f\"Height: {height}, Type: {type(height)}\")\n",
        "print(f\"Pi: {pi}, Type: {type(pi)}\")\n",
        "\n",
        "# Complex number (complex)\n",
        "complex_num = 3 + 4j\n",
        "print(f\"Complex Number: {complex_num}, Type: {type(complex_num)}\")"
      ]
    },
    {
      "cell_type": "code",
      "execution_count": null,
      "metadata": {
        "id": "text-types"
      },
      "outputs": [],
      "source": [
        "# String (str) - Text data\n",
        "name = \"John Doe\"\n",
        "email = 'john@example.com'  # Single or double quotes work\n",
        "print(f\"Name: {name}, Type: {type(name)}\")\n",
        "print(f\"Email: {email}, Type: {type(email)}\")\n",
        "\n",
        "# Multi-line string\n",
        "multi_line = \"\"\"This is a\n",
        "multi-line string\"\"\"\n",
        "print(f\"Multi-line: {multi_line}\")\n",
        "print(f\"Type: {type(multi_line)}\")"
      ]
    },
    {
      "cell_type": "code",
      "execution_count": null,
      "metadata": {
        "id": "boolean-type"
      },
      "outputs": [],
      "source": [
        "# Boolean (bool) - True or False\n",
        "is_student = True\n",
        "is_working = False\n",
        "print(f\"Is Student: {is_student}, Type: {type(is_student)}\")\n",
        "print(f\"Is Working: {is_working}, Type: {type(is_working)}\")\n",
        "\n",
        "# Boolean expressions\n",
        "print(f\"5 > 3: {5 > 3}, Type: {type(5 > 3)}\")\n",
        "print(f\"10 == 5: {10 == 5}, Type: {type(10 == 5)}\")"
      ]
    },
    {
      "cell_type": "code",
      "execution_count": null,
      "metadata": {
        "id": "collection-types"
      },
      "outputs": [],
      "source": [
        "# List (list) - Mutable, ordered collection\n",
        "fruits = [\"apple\", \"banana\", \"orange\"]\n",
        "numbers = [1, 2, 3, 4, 5]\n",
        "mixed_list = [1, \"hello\", 3.14, True]\n",
        "print(f\"Fruits: {fruits}, Type: {type(fruits)}\")\n",
        "print(f\"Numbers: {numbers}, Type: {type(numbers)}\")\n",
        "print(f\"Mixed List: {mixed_list}, Type: {type(mixed_list)}\")\n",
        "\n",
        "# Tuple (tuple) - Immutable, ordered collection\n",
        "coordinates = (10, 20)\n",
        "person = (\"John\", 25, \"Engineer\")\n",
        "print(f\"Coordinates: {coordinates}, Type: {type(coordinates)}\")\n",
        "print(f\"Person: {person}, Type: {type(person)}\")"
      ]
    },
    {
      "cell_type": "code",
      "execution_count": null,
      "metadata": {
        "id": "dictionary-set-types"
      },
      "outputs": [],
      "source": [
        "# Dictionary (dict) - Key-value pairs\n",
        "person_info = {\n",
        "    \"name\": \"John Doe\",\n",
        "    \"age\": 25,\n",
        "    \"city\": \"New York\",\n",
        "    \"skills\": [\"Python\", \"Java\", \"SQL\"]\n",
        "}\n",
        "print(f\"Person Info: {person_info}, Type: {type(person_info)}\")\n",
        "\n",
        "# Set (set) - Unordered collection of unique elements\n",
        "unique_numbers = {1, 2, 3, 4, 5}\n",
        "unique_letters = {\"a\", \"b\", \"c\", \"a\", \"b\"}  # Duplicates are removed\n",
        "print(f\"Unique Numbers: {unique_numbers}, Type: {type(unique_numbers)}\")\n",
        "print(f\"Unique Letters: {unique_letters}, Type: {type(unique_letters)}\")"
      ]
    },
    {
      "cell_type": "code",
      "execution_count": null,
      "metadata": {
        "id": "special-types"
      },
      "outputs": [],
      "source": [
        "# None (NoneType) - Represents absence of value\n",
        "empty_value = None\n",
        "print(f\"Empty Value: {empty_value}, Type: {type(empty_value)}\")\n",
        "\n",
        "# Using type() function to check types\n",
        "print(f\"\\nType checking examples:\")\n",
        "print(f\"type(42): {type(42)}\")\n",
        "print(f\"type('hello'): {type('hello')}\")\n",
        "print(f\"type([1, 2, 3]): {type([1, 2, 3])}\")\n",
        "print(f\"type(True): {type(True)}\")\n",
        "print(f\"type(None): {type(None)}\")"
      ]
    },
    {
      "cell_type": "markdown",
      "metadata": {
        "id": "string-manipulation-section"
      },
      "source": [
        "## 3. String Manipulation and Printing\n",
        "\n",
        "Strings are one of the most important data types. Let's learn how to work with them."
      ]
    },
    {
      "cell_type": "code",
      "execution_count": null,
      "metadata": {
        "id": "string-creation"
      },
      "outputs": [],
      "source": [
        "# String creation\n",
        "single_quotes = 'This is a string'\n",
        "double_quotes = \"This is also a string\"\n",
        "triple_quotes = \"\"\"This is a\n",
        "multi-line string\"\"\"\n",
        "\n",
        "print(f\"Single quotes: {single_quotes}\")\n",
        "print(f\"Double quotes: {double_quotes}\")\n",
        "print(f\"Triple quotes: {triple_quotes}\")\n",
        "\n",
        "# String concatenation\n",
        "first_name = \"John\"\n",
        "last_name = \"Doe\"\n",
        "full_name = first_name + \" \" + last_name\n",
        "print(f\"Full name: {full_name}\")"
      ]
    },
    {
      "cell_type": "code",
      "execution_count": null,
      "metadata": {
        "id": "string-formatting"
      },
      "outputs": [],
      "source": [
        "# String formatting methods\n",
        "age = 25\n",
        "city = \"New York\"\n",
        "\n",
        "# f-strings (recommended - Python 3.6+)\n",
        "print(f\"Name: {full_name}, Age: {age}, City: {city}\")\n",
        "\n",
        "# .format() method\n",
        "print(\"Name: {}, Age: {}, City: {}\".format(full_name, age, city))\n",
        "print(\"Name: {0}, Age: {1}, City: {2}\".format(full_name, age, city))\n",
        "print(\"Name: {name}, Age: {age}, City: {city}\".format(name=full_name, age=age, city=city))\n",
        "\n",
        "# % operator (old style)\n",
        "print(\"Name: %s, Age: %d, City: %s\" % (full_name, age, city))"
      ]
    },
    {
      "cell_type": "code",
      "execution_count": null,
      "metadata": {
        "id": "string-methods"
      },
      "outputs": [],
      "source": [
        "# String methods\n",
        "text = \"  Hello World  \"\n",
        "print(f\"Original: '{text}'\")\n",
        "print(f\"Length: {len(text)}\")\n",
        "\n",
        "# Case methods\n",
        "print(f\"\\nCase methods:\")\n",
        "print(f\"Upper: '{text.upper()}'\")\n",
        "print(f\"Lower: '{text.lower()}'\")\n",
        "print(f\"Title: '{text.title()}'\")\n",
        "print(f\"Capitalize: '{text.capitalize()}'\")\n",
        "\n",
        "# Whitespace methods\n",
        "print(f\"\\nWhitespace methods:\")\n",
        "print(f\"Strip: '{text.strip()}'\")\n",
        "print(f\"Lstrip: '{text.lstrip()}'\")\n",
        "print(f\"Rstrip: '{text.rstrip()}'\")\n",
        "\n",
        "# Search and replace\n",
        "sample_text = \"Hello World, Hello Python\"\n",
        "print(f\"\\nSearch and replace:\")\n",
        "print(f\"Original: {sample_text}\")\n",
        "print(f\"Contains 'World': {sample_text.find('World')}\")\n",
        "print(f\"Count 'Hello': {sample_text.count('Hello')}\")\n",
        "print(f\"Replace 'Hello' with 'Hi': {sample_text.replace('Hello', 'Hi')}\")"
      ]
    },
    {
      "cell_type": "code",
      "execution_count": null,
      "metadata": {
        "id": "string-slicing"
      },
      "outputs": [],
      "source": [
        "# String slicing\n",
        "text = \"Python Programming\"\n",
        "print(f\"String: {text}\")\n",
        "print(f\"Length: {len(text)}\")\n",
        "print(f\"First character: {text[0]}\")\n",
        "print(f\"Last character: {text[-1]}\")\n",
        "print(f\"First 6 characters: {text[:6]}\")\n",
        "print(f\"Last 6 characters: {text[-6:]}\")\n",
        "print(f\"Characters 7-11: {text[7:12]}\")\n",
        "print(f\"Every 2nd character: {text[::2]}\")\n",
        "print(f\"Reverse: {text[::-1]}\")\n",
        "\n",
        "# String splitting and joining\n",
        "csv_data = \"apple,banana,orange,grape\"\n",
        "fruits_list = csv_data.split(\",\")\n",
        "print(f\"\\nCSV data: {csv_data}\")\n",
        "print(f\"Split into list: {fruits_list}\")\n",
        "print(f\"Joined with ' | ': {' | '.join(fruits_list)}\")"
      ]
    },
    {
      "cell_type": "code",
      "execution_count": null,
      "metadata": {
        "id": "string-testing"
      },
      "outputs": [],
      "source": [
        "# String testing methods\n",
        "test_string = \"Hello123\"\n",
        "print(f\"Test string: {test_string}\")\n",
        "print(f\"Is alpha: {test_string.isalpha()}\")\n",
        "print(f\"Is numeric: {test_string.isnumeric()}\")\n",
        "print(f\"Is alphanumeric: {test_string.isalnum()}\")\n",
        "print(f\"Starts with 'Hello': {test_string.startswith('Hello')}\")\n",
        "print(f\"Ends with '123': {test_string.endswith('123')}\")\n",
        "\n",
        "# More examples\n",
        "print(f\"\\nMore string tests:\")\n",
        "print(f\"'hello'.isupper(): {'hello'.isupper()}\")\n",
        "print(f\"'HELLO'.isupper(): {'HELLO'.isupper()}\")\n",
        "print(f\"'123'.isdigit(): {'123'.isdigit()}\")\n",
        "print(f\"'abc123'.isdigit(): {'abc123'.isdigit()}\")"
      ]
    },
    {
      "cell_type": "markdown",
      "metadata": {
        "id": "variable-assignment-section"
      },
      "source": [
        "## 4. Variable Assignment and Types\n",
        "\n",
        "Learn how to assign values to variables and understand Python's dynamic typing."
      ]
    },
    {
      "cell_type": "code",
      "execution_count": null,
      "metadata": {
        "id": "basic-assignment"
      },
      "outputs": [],
      "source": [
        "# Basic variable assignment\n",
        "x = 10\n",
        "y = 20\n",
        "z = x + y\n",
        "print(f\"x = {x}, y = {y}, z = x + y = {z}\")\n",
        "\n",
        "# Multiple assignment\n",
        "a, b, c = 1, 2, 3\n",
        "print(f\"Multiple assignment: a={a}, b={b}, c={c}\")\n",
        "\n",
        "# Unpacking from list\n",
        "numbers = [10, 20, 30]\n",
        "first, second, third = numbers\n",
        "print(f\"Unpacking: first={first}, second={second}, third={third}\")"
      ]
    },
    {
      "cell_type": "code",
      "execution_count": null,
      "metadata": {
        "id": "variable-naming"
      },
      "outputs": [],
      "source": [
        "# Variable naming conventions\n",
        "# Good variable names\n",
        "user_name = \"John\"\n",
        "user_age = 25\n",
        "is_active = True\n",
        "total_count = 100\n",
        "\n",
        "print(f\"Good variable names: {user_name}, {user_age}, {is_active}, {total_count}\")\n",
        "\n",
        "# Variable naming rules:\n",
        "# - Can contain letters, numbers, and underscores\n",
        "# - Must start with a letter or underscore\n",
        "# - Cannot use reserved keywords\n",
        "# - Case sensitive\n",
        "\n",
        "# Examples of valid names\n",
        "my_variable = \"valid\"\n",
        "_private_var = \"valid\"\n",
        "var123 = \"valid\"\n",
        "print(f\"Valid names: {my_variable}, {_private_var}, {var123}\")\n",
        "\n",
        "# Examples of invalid names (commented out to avoid errors)\n",
        "# 123var = \"invalid\"  # Can't start with number\n",
        "# my-var = \"invalid\"  # Can't use hyphens\n",
        "# class = \"invalid\"   # Can't use reserved keywords"
      ]
    },
    {
      "cell_type": "code",
      "execution_count": null,
      "metadata": {
        "id": "dynamic-typing"
      },
      "outputs": [],
      "source": [
        "# Dynamic typing - Python variables can change type\n",
        "variable = 42\n",
        "print(f\"Variable: {variable}, Type: {type(variable)}\")\n",
        "\n",
        "variable = \"Hello\"\n",
        "print(f\"Variable: {variable}, Type: {type(variable)}\")\n",
        "\n",
        "variable = [1, 2, 3]\n",
        "print(f\"Variable: {variable}, Type: {type(variable)}\")\n",
        "\n",
        "variable = True\n",
        "print(f\"Variable: {variable}, Type: {type(variable)}\")"
      ]
    },
    {
      "cell_type": "code",
      "execution_count": null,
      "metadata": {
        "id": "type-conversion"
      },
      "outputs": [],
      "source": [
        "# Type conversion (casting)\n",
        "# String to number\n",
        "string_number = \"123\"\n",
        "integer_number = int(string_number)\n",
        "float_number = float(string_number)\n",
        "print(f\"String '{string_number}' to int: {integer_number}, Type: {type(integer_number)}\")\n",
        "print(f\"String '{string_number}' to float: {float_number}, Type: {type(float_number)}\")\n",
        "\n",
        "# Number to string\n",
        "number = 42\n",
        "string_number = str(number)\n",
        "print(f\"Number {number} to string: '{string_number}', Type: {type(string_number)}\")\n",
        "\n",
        "# List to tuple and vice versa\n",
        "my_list = [1, 2, 3]\n",
        "my_tuple = tuple(my_list)\n",
        "print(f\"List {my_list} to tuple: {my_tuple}, Type: {type(my_tuple)}\")\n",
        "\n",
        "my_tuple = (4, 5, 6)\n",
        "my_list = list(my_tuple)\n",
        "print(f\"Tuple {my_tuple} to list: {my_list}, Type: {type(my_list)}\")"
      ]
    },
    {
      "cell_type": "code",
      "execution_count": null,
      "metadata": {
        "id": "boolean-conversion"
      },
      "outputs": [],
      "source": [
        "# Boolean conversion\n",
        "print(\"Boolean conversion examples:\")\n",
        "print(f\"bool(0): {bool(0)}\")\n",
        "print(f\"bool(1): {bool(1)}\")\n",
        "print(f\"bool(42): {bool(42)}\")\n",
        "print(f\"bool(''): {bool('')}\")\n",
        "print(f\"bool('Hello'): {bool('Hello')}\")\n",
        "print(f\"bool([]): {bool([])}\")\n",
        "print(f\"bool([1, 2, 3]): {bool([1, 2, 3])}\")\n",
        "print(f\"bool(None): {bool(None)}\")\n",
        "\n",
        "# Truthy and Falsy values\n",
        "print(f\"\\nTruthy values (convert to True):\")\n",
        "print(f\"- Non-zero numbers: {bool(1)}, {bool(42)}, {bool(-1)}\")\n",
        "print(f\"- Non-empty strings: {bool('hello')}, {bool('0')}\")\n",
        "print(f\"- Non-empty lists: {bool([1, 2, 3])}, {bool([''])}\")\n",
        "\n",
        "print(f\"\\nFalsy values (convert to False):\")\n",
        "print(f\"- Zero: {bool(0)}\")\n",
        "print(f\"- Empty string: {bool('')}\")\n",
        "print(f\"- Empty list: {bool([])}\")\n",
        "print(f\"- None: {bool(None)}\")"
      ]
    },
    {
      "cell_type": "markdown",
      "metadata": {
        "id": "practical-examples"
      },
      "source": [
        "## 5. Practical Examples for Test Automation\n",
        "\n",
        "Let's apply what we've learned to real test automation scenarios."
      ]
    },
    {
      "cell_type": "code",
      "execution_count": null,
      "metadata": {
        "id": "test-data-generation"
      },
      "outputs": [],
      "source": [
        "# Test data generation\n",
        "def generate_test_user(user_id):\n",
        "    \"\"\"Generate test user data\"\"\"\n",
        "    return {\n",
        "        \"id\": user_id,\n",
        "        \"username\": f\"user{user_id:03d}\",\n",
        "        \"email\": f\"user{user_id:03d}@example.com\",\n",
        "        \"password\": f\"pass{user_id:03d}123\",\n",
        "        \"is_active\": True\n",
        "    }\n",
        "\n",
        "# Generate test users\n",
        "test_users = []\n",
        "for i in range(1, 4):\n",
        "    user = generate_test_user(i)\n",
        "    test_users.append(user)\n",
        "\n",
        "print(\"Generated test users:\")\n",
        "for user in test_users:\n",
        "    print(f\"  ID: {user['id']}, Username: {user['username']}, Email: {user['email']}\")\n",
        "    print(f\"    Type of ID: {type(user['id'])}, Type of username: {type(user['username'])}\")"
      ]
    },
    {
      "cell_type": "code",
      "execution_count": null,
      "metadata": {
        "id": "url-construction"
      },
      "outputs": [],
      "source": [
        "# URL construction using string formatting\n",
        "base_url = \"https://practiceautomatedtesting.com\"\n",
        "endpoints = [\"login\", \"dashboard\", \"profile\", \"settings\"]\n",
        "\n",
        "print(\"Generated test URLs:\")\n",
        "for endpoint in endpoints:\n",
        "    full_url = f\"{base_url}/{endpoint}\"\n",
        "    print(f\"  {full_url}\")\n",
        "    print(f\"    URL type: {type(full_url)}, Length: {len(full_url)}\")"
      ]
    },
    {
      "cell_type": "code",
      "execution_count": null,
      "metadata": {
        "id": "test-result-formatting"
      },
      "outputs": [],
      "source": [
        "# Test result formatting\n",
        "test_results = [\n",
        "    {\"name\": \"Login Test\", \"status\": \"PASS\", \"duration\": 2.5},\n",
        "    {\"name\": \"Search Test\", \"status\": \"FAIL\", \"duration\": 1.8},\n",
        "    {\"name\": \"Logout Test\", \"status\": \"PASS\", \"duration\": 1.2}\n",
        "]\n",
        "\n",
        "print(\"Test Results:\")\n",
        "for result in test_results:\n",
        "    status_icon = \"✅\" if result[\"status\"] == \"PASS\" else \"❌\"\n",
        "    print(f\"  {status_icon} {result['name']}: {result['duration']}s ({result['status']})\")\n",
        "    print(f\"    Duration type: {type(result['duration'])}, Status type: {type(result['status'])}\")"
      ]
    },
    {
      "cell_type": "code",
      "execution_count": null,
      "metadata": {
        "id": "string-validation"
      },
      "outputs": [],
      "source": [
        "# String validation\n",
        "def validate_email(email):\n",
        "    \"\"\"Simple email validation\"\"\"\n",
        "    if \"@\" in email and \".\" in email:\n",
        "        return True\n",
        "    return False\n",
        "\n",
        "test_emails = [\n",
        "    \"user@example.com\",\n",
        "    \"invalid-email\",\n",
        "    \"user@.com\",\n",
        "    \"user@domain.org\"\n",
        "]\n",
        "\n",
        "print(\"Email validation:\")\n",
        "for email in test_emails:\n",
        "    is_valid = validate_email(email)\n",
        "    print(f\"  '{email}': {'Valid' if is_valid else 'Invalid'}\")\n",
        "    print(f\"    Email type: {type(email)}, Result type: {type(is_valid)}\")"
      ]
    },
    {
      "cell_type": "code",
      "execution_count": null,
      "metadata": {
        "id": "data-type-validation"
      },
      "outputs": [],
      "source": [
        "# Data type checking in test automation\n",
        "def validate_test_data(data):\n",
        "    \"\"\"Validate test data types\"\"\"\n",
        "    expected_types = {\n",
        "        \"username\": str,\n",
        "        \"password\": str,\n",
        "        \"age\": int,\n",
        "        \"is_active\": bool\n",
        "    }\n",
        "    \n",
        "    print(\"Test data validation:\")\n",
        "    for field, expected_type in expected_types.items():\n",
        "        if field in data:\n",
        "            actual_type = type(data[field])\n",
        "            if actual_type != expected_type:\n",
        "                print(f\"  ❌ {field}: Expected {expected_type.__name__}, got {actual_type.__name__}\")\n",
        "            else:\n",
        "                print(f\"  ✅ {field}: Correct type ({actual_type.__name__})\")\n",
        "\n",
        "test_data = {\n",
        "    \"username\": \"testuser\",\n",
        "    \"password\": \"testpass123\",\n",
        "    \"age\": 25,\n",
        "    \"is_active\": True\n",
        "}\n",
        "\n",
        "validate_test_data(test_data)"
      ]
    },
    {
      "cell_type": "markdown",
      "metadata": {
        "id": "exercises"
      },
      "source": [
        "## 6. Practice Exercises\n",
        "\n",
        "Try these exercises to reinforce your understanding."
      ]
    },
    {
      "cell_type": "code",
      "execution_count": null,
      "metadata": {
        "id": "exercise-1"
      },
      "outputs": [],
      "source": [
        "# Exercise 1: Create variables for a person and print their information\n",
        "# Create variables for: name, age, city, and is_student\n",
        "# Then print them using f-strings\n",
        "\n",
        "# Your code here\n",
        "\n",
        "\n",
        "\n",
        "\n",
        "\n",
        "\n"
      ]
    },
    {
      "cell_type": "code",
      "execution_count": null,
      "metadata": {
        "id": "exercise-2"
      },
      "outputs": [],
      "source": [
        "# Exercise 2: String manipulation\n",
        "# Given the string: \"  Python Programming  \"\n",
        "# 1. Remove extra spaces\n",
        "# 2. Convert to title case\n",
        "# 3. Replace \"Programming\" with \"Basics\"\n",
        "# 4. Print the result\n",
        "\n",
        "text = \"  Python Programming  \"\n",
        "\n",
        "# Your code here\n",
        "\n",
        "\n",
        "\n",
        "\n",
        "\n"
      ]
    },
    {
      "cell_type": "code",
      "execution_count": null,
      "metadata": {
        "id": "exercise-3"
      },
      "outputs": [],
      "source": [
        "# Exercise 3: Type checking and conversion\n",
        "# Create a list with different data types: [\"42\", 3.14, True, \"Python\"]\n",
        "# For each item, print its value, current type, and convert it to a different type\n",
        "\n",
        "mixed_data = [\"42\", 3.14, True, \"Python\"]\n",
        "\n",
        "# Your code here\n",
        "\n",
        "\n",
        "\n",
        "\n",
        "\n"
      ]
    },
    {
      "cell_type": "markdown",
      "metadata": {
        "id": "next-steps"
      },
      "source": [
        "## Next Steps\n",
        "\n",
        "Congratulations! You've mastered the fundamental concepts of Python:\n",
        "\n",
        "✅ **Hello World** - Your first Python program\n",
        "✅ **Data Types** - Understanding different types and type checking\n",
        "✅ **String Manipulation** - Working with text data\n",
        "✅ **Variable Assignment** - Creating and using variables\n",
        "\n",
        "Next topics to explore:\n",
        "\n",
        "1. **Operators and Control Statements** - Making decisions in your code\n",
        "2. **Loops** - Repeating actions\n",
        "3. **Functions** - Organizing and reusing code\n",
        "4. **Data Structures** - Lists, dictionaries, sets, and tuples\n",
        "5. **Error Handling** - Dealing with exceptions\n",
        "\n",
        "These fundamentals will serve as the foundation for all your Python programming and test automation work!"
      ]
    }
  ],
  "metadata": {
    "colab": {
      "provenance": []
    },
    "kernelspec": {
      "display_name": "Python 3",
      "name": "python3"
    },
    "language_info": {
      "name": "python"
    }
  },
  "nbformat": 4,
  "nbformat_minor": 0
}
