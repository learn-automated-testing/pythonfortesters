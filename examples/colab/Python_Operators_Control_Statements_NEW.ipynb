{
 "cells": [
  {
   "cell_type": "markdown",
   "metadata": {},
   "source": [
    "# Python Operators, Conditions and Loops\n",
    "\n",
    "In this section, you'll learn how to perform calculations, make decisions, and repeat actions using Python's core control flow tools \u2014 essential for scripting and test automation.\n",
    "\n",
    "## \ud83c\udfaf Learning Objectives\n",
    "\n",
    "- \u2705 Master arithmetic, comparison, and logical operators  \n",
    "- \u2705 Understand assignment and bitwise operators  \n",
    "- \u2705 Learn conditional statements (`if`, `elif`, `else`)  \n",
    "- \u2705 Practice with loops (`for`, `while`)  \n",
    "- \u2705 Apply operators and control flow to test automation scenarios  "
   ]
  },
  {
   "cell_type": "markdown",
   "metadata": {},
   "source": [
    "## \u2795 Arithmetic Operators in Python\n",
    "\n",
    "Arithmetic operators are used to perform basic **math operations** in Python. These are fundamental when writing calculations, evaluating test values, or working with counters and loops.\n",
    "\n",
    "| Operator | Symbol | Description              | Example     |\n",
    "|----------|--------|--------------------------|-------------|\n",
    "| Addition | `+`    | Adds two numbers         | `x + y`     |\n",
    "| Subtraction | `-` | Subtracts one from another | `x - y`   |\n",
    "| Multiplication | `*` | Multiplies two numbers | `x * y`     |\n",
    "| Division | `/`    | Divides (float result)   | `x / y`     |\n",
    "| Modulus | `%`     | Remainder of division    | `x % y`     |\n",
    "| Floor Division | `//` | Division, rounded down | `x // y` |\n",
    "| Exponentiation | `**` | Power of a number      | `x ** y`    |"
   ]
  },
  {
   "cell_type": "code",
   "execution_count": null,
   "metadata": {},
   "outputs": [],
   "source": [
    "x = 10\n",
    "y = 3\n",
    "\n",
    "print(x + y)   # 13 \u2192 addition\n",
    "print(x - y)   # 7 \u2192 subtraction\n",
    "print(x * y)   # 30 \u2192 multiplication\n",
    "print(x / y)   # 3.333... \u2192 division (always returns float)\n",
    "print(x % y)   # 1 \u2192 remainder when 10 is divided by 3\n",
    "print(x // y)  # 3 \u2192 floor division (no decimals, rounded down)\n",
    "print(x ** y)  # 1000 \u2192 10 raised to the power of 3"
   ]
  },
  {
   "cell_type": "markdown",
   "metadata": {},
   "source": [
    "### \ud83d\udca1 When Are These Useful?\n\n- `+`, `-`, `*`, `/` \u2192 Useful in general calculations, totals, and averages  \n- `%` \u2192 Often used to check even/odd (`x % 2 == 0`), or for cycle logic  \n- `//` \u2192 Useful when you want an integer result (e.g., pagination, row/column division)  \n- `**` \u2192 Great for power-based formulas like squaring (`x ** 2`) or exponentials (`2 ** 3`)"
   ]
  },
  {
   "cell_type": "code",
   "execution_count": null,
   "metadata": {},
   "outputs": [],
   "source": [
    "# Check even/odd numbers\nfor num in range(1, 11):\n    if num % 2 == 0:\n        print(f'{num} is even')\n    else:\n        print(f'{num} is odd')\n\n# Pagination example\ntotal_items = 25\nitems_per_page = 5\ntotal_pages = (total_items + items_per_page - 1) // items_per_page\nprint(f'Total pages needed: {total_pages}')"
   ]
  },
  {
   "cell_type": "markdown",
   "metadata": {},
   "source": [
    "## \ud83e\uddee Comparison Operators in Python\n\n**Comparison operators** are used to compare two values. They always return a Boolean value: `True` or `False`.\n\n| Operator | Symbol | Description                          | Example          | Result   |\n|----------|--------|--------------------------------------|------------------|----------|\n| Equal to       | `==`   | Checks if two values are equal           | `5 == 5`         | `True`   |\n| Not equal to   | `!=`   | Checks if values are not equal          | `5 != 3`         | `True`   |\n| Greater than   | `>`    | Checks if left is greater than right    | `7 > 4`          | `True`   |\n| Less than      | `<`    | Checks if left is less than right       | `3 < 2`          | `False`  |\n| Greater or equal| `>=`  | Left is greater than or equal to right | `5 >= 5`         | `True`   |\n| Less or equal   | `<=`  | Left is less than or equal to right    | `2 <= 5`         | `True`   |"
   ]
  },
  {
   "cell_type": "code",
   "execution_count": null,
   "metadata": {},
   "outputs": [],
   "source": [
    "age = 20\nif age >= 18:\n    print('Eligible to vote')\n\nfor num in range(10):\n    if num % 2 == 0:\n        print(f'{num} is even')\n\nname1 = 'Alice'\nname2 = 'Bob'\nprint(f\"'{name1}' == '{name2}': {name1 == name2}\")\nprint(f\"'{name1}' < '{name2}': {name1 < name2}  # Alphabetical order\")"
   ]
  },
  {
   "cell_type": "markdown",
   "metadata": {},
   "source": [
    "## \ud83d\udd17 Logical Operators in Python\n\nLogical operators are used to combine multiple **conditions**. They return either `True` or `False` and are commonly used in `if` statements, loops, and assertions.\n\n| Operator | Name      | Description                                  | Example               |\n|----------|-----------|----------------------------------------------|-----------------------|\n| `and`    | Logical AND  | True if **both** conditions are true         | `x > 0 and x < 10`    |\n| `or`     | Logical OR   | True if **at least one** condition is true   | `x == 0 or x == 1`    |\n| `not`    | Logical NOT  | Inverts the condition                        | `not is_valid`        |"
   ]
  },
  {
   "cell_type": "code",
   "execution_count": null,
   "metadata": {},
   "outputs": [],
   "source": [
    "x = 5\nprint(x > 0 and x < 10)  # True (both are true)\nprint(x < 0 or x == 5)   # True (second condition is true)\nprint(not x == 5)        # False (x == 5, so not True = False)\n\nusername = 'admin'\npassword = '1234'\nif username == 'admin' and password == '1234':\n    print('Access granted')\n\ndata = [5, -3, 8, 0, 2]\nfor number in data:\n    if number > 0 and number < 10:\n        print(f'{number} is a valid positive single-digit')"
   ]
  },
  {
   "cell_type": "markdown",
   "metadata": {},
   "source": [
    "## \ud83d\udd8a\ufe0f Assignment Operators\n\nAssignment operators are used to **assign values to variables**. You already know the basic `=` operator, but Python also supports **compound assignment operators** that combine arithmetic and assignment."
   ]
  },
  {
   "cell_type": "code",
   "execution_count": null,
   "metadata": {},
   "outputs": [],
   "source": [
    "x = 10\nprint(f'Basic assignment: x = {x}')\nx = 5\nprint(f'Initial value: x = {x}')\nx += 3\nprint(f'After x += 3: x = {x}')\nx -= 1\nprint(f'After x -= 1: x = {x}')\nx *= 2\nprint(f'After x *= 2: x = {x}')\nx /= 2\nprint(f'After x /= 2: x = {x}')\nx %= 3\nprint(f'After x %= 3: x = {x}')\nx **= 2\nprint(f'After x **= 2: x = {x}')\nx //= 2\nprint(f'After x //= 2: x = {x}')"
   ]
  },
  {
   "cell_type": "markdown",
   "metadata": {},
   "source": [
    "## \u2699\ufe0f Bitwise Operators (Intro)\n\n**Bitwise operators** work on the binary representation of integers. These are mostly used in **low-level programming**, **flags**, and **performance-critical applications**.\n\n| Operator      | Symbol | Description                             | Example        |\n|---------------|--------|-----------------------------------------|----------------|\n| AND           | `&`    | 1 if **both** bits are 1                 | `5 & 3 = 1`    |\n| OR            | `|`    | 1 if **at least one** bit is 1          | `5 | 3 = 7`    |\n| XOR           | `^`    | 1 if **bits are different**             | `5 ^ 3 = 6`    |\n| NOT           | `~`    | Inverts all bits                        | `~5 = -6`      |\n| Left Shift    | `<<`   | Shifts bits to the **left**             | `5 << 1 = 10`  |\n| Right Shift   | `>>`   | Shifts bits to the **right**            | `5 >> 1 = 2`   |"
   ]
  },
  {
   "cell_type": "code",
   "execution_count": null,
   "metadata": {},
   "outputs": [],
   "source": [
    "a = 5       # Binary: 0101\nb = 3       # Binary: 0011\nprint(f'a = {a} (binary: {bin(a)})')\nprint(f'b = {b} (binary: {bin(b)})')\nprint()\nprint(f'a & b = {a & b}   # AND')\nprint(f'a | b = {a | b}   # OR')\nprint(f'a ^ b = {a ^ b}   # XOR')\nprint(f'~a = {~a}   # NOT')\nprint(f'a << 1 = {a << 1}   # Left shift')\nprint(f'a >> 1 = {a >> 1}   # Right shift')"
   ]
  },
  {
   "cell_type": "markdown",
   "metadata": {},
   "source": [
    "## \ud83d\udd00 Conditional Statements in Python\n\nConditional statements allow your program to **make decisions** and execute code only if a certain condition is met. They are essential for control flow, validation, automation logic, and test conditions."
   ]
  },
  {
   "cell_type": "code",
   "execution_count": null,
   "metadata": {},
   "outputs": [],
   "source": [
    "temperature = 25\nif temperature > 20:\n    print(\"It's warm outside.\")\nelse:\n    print(\"It's cold outside.\")"
   ]
  },
  {
   "cell_type": "code",
   "execution_count": null,
   "metadata": {},
   "outputs": [],
   "source": [
    "temperature = 20\nif temperature > 25:\n    print(\"It's hot.\")\nelif temperature > 18:\n    print(\"It's mild.\")\nelse:\n    print(\"It's cold.\")"
   ]
  },
  {
   "cell_type": "markdown",
   "metadata": {},
   "source": [
    "## \ud83d\udd01 Practice with Loops (`for`, `while`)\n\nLoops allow you to **repeat a block of code multiple times**, making your programs more efficient and dynamic. In Python, there are two main types of loops:"
   ]
  },
  {
   "cell_type": "code",
   "execution_count": null,
   "metadata": {},
   "outputs": [],
   "source": [
    "# for Loop\nfor i in range(5):\n    print(i)\n\nfruits = ['apple', 'banana', 'cherry']\nfor fruit in fruits:\n    print(f'I like {fruit}')"
   ]
  },
  {
   "cell_type": "code",
   "execution_count": null,
   "metadata": {},
   "outputs": [],
   "source": [
    "# while Loop\ncount = 0\nwhile count < 3:\n    print('Counting:', count)\n    count += 1"
   ]
  },
  {
   "cell_type": "code",
   "execution_count": null,
   "metadata": {},
   "outputs": [],
   "source": [
    "# Loop Control Statements\nfor i in range(5):\n    if i == 3:\n        break  # Stop loop when i equals 3\n    print(i)"
   ]
  },
  {
   "cell_type": "markdown",
   "metadata": {},
   "source": [
    "## \ud83e\uddea Apply Operators and Control Flow to Test Automation\n\nIn test automation, Python's **operators** and **control flow tools** (`if`, `else`, `loops`, etc.) help you build smart, flexible scripts that respond to real test conditions."
   ]
  },
  {
   "cell_type": "code",
   "execution_count": null,
   "metadata": {},
   "outputs": [],
   "source": [
    "expected_status = 'Success'\nactual_status = 'Success'\nresponse_time = 0.9\nif actual_status == expected_status and response_time < 1.0:\n    print('Test passed \u2705')\nelse:\n    print('Test failed \u274c')"
   ]
  },
  {
   "cell_type": "code",
   "execution_count": null,
   "metadata": {},
   "outputs": [],
   "source": [
    "inputs = [5, -1, 0, 10]\nfor value in inputs:\n    if value > 0:\n        print(f'{value} is a valid positive number')\n    else:\n        print(f'{value} is invalid')"
   ]
  },
  {
   "cell_type": "code",
   "execution_count": null,
   "metadata": {},
   "outputs": [],
   "source": [
    "attempts = 0\nmax_attempts = 3\nsuccess = False\nwhile attempts < max_attempts and not success:\n    print(f'Attempt {attempts + 1}')\n    response = 'fail' if attempts < 2 else 'pass'\n    if response == 'pass':\n        success = True\n        print('Test passed \u2705')\n    else:\n        attempts += 1"
   ]
  },
  {
   "cell_type": "markdown",
   "metadata": {},
   "source": [
    "## \ud83d\udcda Summary\n\nIn this notebook, you've learned:\n- Arithmetic, comparison, logical, assignment, and bitwise operators\n- Conditional statements (`if`, `elif`, `else`)\n- Loops (`for`, `while`) and loop control\n- How to apply these concepts in test automation\n\nHappy coding! \ud83d\udc0d\u2728"
   ]
  },
  {
   "cell_type": "markdown",
   "metadata": {},
   "source": [
    "## \ud83c\udfcb\ufe0f More Examples & Practice Session\n\nLet's reinforce your learning with more practical examples and exercises!"
   ]
  },
  {
   "cell_type": "markdown",
   "metadata": {},
   "source": [
    "### Example: FizzBuzz\n\nPrint numbers from 1 to 20. For multiples of 3, print 'Fizz', for multiples of 5, print 'Buzz', and for multiples of both, print 'FizzBuzz'."
   ]
  },
  {
   "cell_type": "code",
   "execution_count": null,
   "metadata": {},
   "outputs": [],
   "source": [
    "for i in range(1, 21):\n    if i % 3 == 0 and i % 5 == 0:\n        print('FizzBuzz')\n    elif i % 3 == 0:\n        print('Fizz')\n    elif i % 5 == 0:\n        print('Buzz')\n    else:\n        print(i)"
   ]
  },
  {
   "cell_type": "markdown",
   "metadata": {},
   "source": [
    "### Example: Find Prime Numbers\n\nPrint all prime numbers between 2 and 30."
   ]
  },
  {
   "cell_type": "code",
   "execution_count": null,
   "metadata": {},
   "outputs": [],
   "source": [
    "for num in range(2, 31):\n    is_prime = True\n    for i in range(2, int(num ** 0.5) + 1):\n        if num % i == 0:\n            is_prime = False\n            break\n    if is_prime:\n        print(num)"
   ]
  },
  {
   "cell_type": "markdown",
   "metadata": {},
   "source": [
    "## \ud83d\udcdd Practice Exercises\n\nTry to solve these on your own!"
   ]
  },
  {
   "cell_type": "markdown",
   "metadata": {},
   "source": [
    "### Exercise 1: Grade Calculator\n\nWrite a function that takes a score (0-100) and returns a letter grade (A, B, C, D, F)."
   ]
  },
  {
   "cell_type": "code",
   "execution_count": null,
   "metadata": {},
   "outputs": [],
   "source": [
    "def calculate_grade(score):\n    # Your code here\n    pass\n\n# Test the function\nfor s in [95, 82, 74, 61, 50]:\n    print(f'Score {s}: Grade {calculate_grade(s)}')"
   ]
  },
  {
   "cell_type": "markdown",
   "metadata": {},
   "source": [
    "### Exercise 2: Even or Odd\n\nWrite a function that checks if a number is even or odd."
   ]
  },
  {
   "cell_type": "code",
   "execution_count": null,
   "metadata": {},
   "outputs": [],
   "source": [
    "def even_or_odd(n):\n    # Your code here\n    pass\n\n# Test the function\nfor n in [2, 7, 10, 13]:\n    print(f'{n} is {even_or_odd(n)}')"
   ]
  },
  {
   "cell_type": "markdown",
   "metadata": {},
   "source": [
    "### Exercise 3: Multiplication Table\n\nWrite a function that prints the multiplication table for a given number up to 10."
   ]
  },
  {
   "cell_type": "code",
   "execution_count": null,
   "metadata": {},
   "outputs": [],
   "source": [
    "def multiplication_table(n):\n    # Your code here\n    pass\n\n# Test the function\nmultiplication_table(5)"
   ]
  }
 ],
 "metadata": {
  "kernelspec": {
   "display_name": "Python 3",
   "language": "python",
   "name": "python3"
  },
  "language_info": {
   "codemirror_mode": {
    "name": "ipython",
    "version": 3
   },
   "file_extension": ".py",
   "mimetype": "text/x-python",
   "name": "python",
   "nbconvert_exporter": "python",
   "pygments_lexer": "ipython3",
   "version": "3.8.5"
  }
 },
 "nbformat": 4,
 "nbformat_minor": 4
}