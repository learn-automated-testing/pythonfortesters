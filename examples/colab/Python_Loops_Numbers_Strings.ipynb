{
  "nbformat": 4,
  "nbformat_minor": 0,
  "metadata": {
    "colab": {
      "provenance": []
    },
    "kernelspec": {
      "name": "python3",
      "display_name": "Python 3"
    },
    "language_info": {
      "name": "python"
    }
  },
  "cells": [
    {
      "cell_type": "markdown",
      "metadata": {
        "id": "loops-numbers-strings-title"
      },
      "source": [
        "# Python Programming: Loops, Numbers & Strings\n",
        "\n",
        "This notebook covers fundamental Python concepts: loops, number operations, and string manipulation.\n",
        "\n",
        "## Learning Objectives\n",
        "- Master different types of loops (for, while, nested)\n",
        "- Understand number operations and mathematical functions\n",
        "- Learn string manipulation and formatting\n",
        "- Practice with real-world test automation scenarios"
      ]
    },
    {
      "cell_type": "markdown",
      "metadata": {
        "id": "numbers-section"
      },
      "source": [
        "## 1. Numbers in Python\n",
        "\n",
        "Python supports integers, floats, and complex numbers."
      ]
    },
    {
      "cell_type": "code",
      "execution_count": null,
      "metadata": {
        "id": "number-types"
      },
      "outputs": [],
      "source": [
        "# Different number types\n",
        "integer_num = 42\n",
        "float_num = 3.14159\n",
        "complex_num = 3 + 4j\n",
        "\n",
        "print(f\"Integer: {integer_num}, Type: {type(integer_num)}\")\n",
        "print(f\"Float: {float_num}, Type: {type(float_num)}\")\n",
        "print(f\"Complex: {complex_num}, Type: {type(complex_num)}\")\n",
        "\n",
        "# Number operations\n",
        "a, b = 10, 3\n",
        "print(f\"\\nBasic operations with {a} and {b}:\")\n",
        "print(f\"Addition: {a} + {b} = {a + b}\")\n",
        "print(f\"Subtraction: {a} - {b} = {a - b}\")\n",
        "print(f\"Multiplication: {a} * {b} = {a * b}\")\n",
        "print(f\"Division: {a} / {b} = {a / b}\")\n",
        "print(f\"Floor Division: {a} // {b} = {a // b}\")\n",
        "print(f\"Modulus: {a} % {b} = {a % b}\")\n",
        "print(f\"Power: {a} ** {b} = {a ** b}\")"
      ]
    },
    {
      "cell_type": "code",
      "execution_count": null,
      "metadata": {
        "id": "math-functions"
      },
      "outputs": [],
      "source": [
        "import math\n",
        "\n",
        "# Mathematical functions\n",
        "numbers = [1, 4, 9, 16, 25]\n",
        "print(f\"Numbers: {numbers}\")\n",
        "print(f\"Sum: {sum(numbers)}\")\n",
        "print(f\"Average: {sum(numbers) / len(numbers):.2f}\")\n",
        "print(f\"Maximum: {max(numbers)}\")\n",
        "print(f\"Minimum: {min(numbers)}\")\n",
        "\n",
        "# Math module functions\n",
        "print(f\"\\nMath functions:\")\n",
        "print(f\"Square root of 16: {math.sqrt(16)}\")\n",
        "print(f\"Ceiling of 3.7: {math.ceil(3.7)}\")\n",
        "print(f\"Floor of 3.7: {math.floor(3.7)}\")\n",
        "print(f\"Absolute value of -5: {abs(-5)}\")\n",
        "print(f\"Round 3.14159 to 2 places: {round(3.14159, 2)}\")\n",
        "\n",
        "# Test automation examples\n",
        "test_durations = [2.1, 1.8, 3.2, 2.5, 1.9]\n",
        "avg_duration = sum(test_durations) / len(test_durations)\n",
        "max_duration = max(test_durations)\n",
        "min_duration = min(test_durations)\n",
        "\n",
        "print(f\"\\n📊 Test Performance Analysis:\")\n",
        "print(f\"Test durations: {test_durations}\")\n",
        "print(f\"Average duration: {avg_duration:.2f}s\")\n",
        "print(f\"Slowest test: {max_duration}s\")\n",
        "print(f\"Fastest test: {min_duration}s\")"
      ]
    },
    {
      "cell_type": "markdown",
      "metadata": {
        "id": "strings-section"
      },
      "source": [
        "## 2. Strings in Python\n",
        "\n",
        "Strings are sequences of characters and support various operations."
      ]
    },
    {
      "cell_type": "code",
      "execution_count": null,
      "metadata": {
        "id": "string-basics"
      },
      "outputs": [],
      "source": [
        "# String creation and basic operations\n",
        "simple_string = \"Hello, World!\"\n",
        "multi_line = \"\"\"This is a\n",
        "multi-line string\"\"\"\n",
        "\n",
        "print(f\"Simple string: {simple_string}\")\n",
        "print(f\"Length: {len(simple_string)}\")\n",
        "print(f\"Multi-line: {multi_line}\")\n",
        "\n",
        "# String indexing and slicing\n",
        "text = \"Python Programming\"\n",
        "print(f\"\\nString: {text}\")\n",
        "print(f\"First character: {text[0]}\")\n",
        "print(f\"Last character: {text[-1]}\")\n",
        "print(f\"First 6 characters: {text[:6]}\")\n",
        "print(f\"Last 6 characters: {text[-6:]}\")\n",
        "print(f\"Characters 7-11: {text[7:12]}\")\n",
        "print(f\"Every 2nd character: {text[::2]}\")\n",
        "print(f\"Reverse: {text[::-1]}\")"
      ]
    },
    {
      "cell_type": "code",
      "execution_count": null,
      "metadata": {
        "id": "string-methods"
      },
      "outputs": [],
      "source": [
        "# String methods\n",
        "test_string = \"  Hello World  \"\n",
        "print(f\"Original: '{test_string}'\")\n",
        "print(f\"Length: {len(test_string)}\")\n",
        "\n",
        "# Case methods\n",
        "print(f\"\\nCase methods:\")\n",
        "print(f\"Upper: {test_string.upper()}\")\n",
        "print(f\"Lower: {test_string.lower()}\")\n",
        "print(f\"Title: {test_string.title()}\")\n",
        "print(f\"Capitalize: {test_string.capitalize()}\")\n",
        "\n",
        "# Whitespace methods\n",
        "print(f\"\\nWhitespace methods:\")\n",
        "print(f\"Strip: '{test_string.strip()}'\")\n",
        "print(f\"Lstrip: '{test_string.lstrip()}'\")\n",
        "print(f\"Rstrip: '{test_string.rstrip()}'\")\n",
        "\n",
        "# Search and replace\n",
        "sample_text = \"Hello World, Hello Python\"\n",
        "print(f\"\\nSearch and replace:\")\n",
        "print(f\"Original: {sample_text}\")\n",
        "print(f\"Contains 'World': {sample_text.find('World')}\")\n",
        "print(f\"Count 'Hello': {sample_text.count('Hello')}\")\n",
        "print(f\"Replace 'Hello' with 'Hi': {sample_text.replace('Hello', 'Hi')}\")\n",
        "\n",
        "# Split and join\n",
        "csv_data = \"apple,banana,orange,grape\"\n",
        "fruits = csv_data.split(\",\")\n",
        "print(f\"\\nSplit and join:\")\n",
        "print(f\"CSV data: {csv_data}\")\n",
        "print(f\"Split into list: {fruits}\")\n",
        "print(f\"Joined with ' | ': {' | '.join(fruits)}\")"
      ]
    },
    {
      "cell_type": "code",
      "execution_count": null,
      "metadata": {
        "id": "string-formatting"
      },
      "outputs": [],
      "source": [
        "# String formatting methods\n",
        "name = \"Alice\"\n",
        "age = 30\n",
        "salary = 75000.50\n",
        "\n",
        "# f-strings (recommended)\n",
        "print(\"F-string formatting:\")\n",
        "print(f\"Name: {name}, Age: {age}, Salary: ${salary:,.2f}\")\n",
        "\n",
        "# .format() method\n",
        "print(\"\\n.format() method:\")\n",
        "template = \"Name: {}, Age: {}, Salary: ${:,.2f}\"\n",
        "print(template.format(name, age, salary))\n",
        "\n",
        "# % operator (old style)\n",
        "print(\"\\n% operator:\")\n",
        "print(\"Name: %s, Age: %d, Salary: $%.2f\" % (name, age, salary))\n",
        "\n",
        "# Test automation examples\n",
        "test_case = \"Login Test\"\n",
        "browser = \"Chrome\"\n",
        "duration = 2.345\n",
        "status = \"PASS\"\n",
        "\n",
        "print(f\"\\n🧪 Test Automation Formatting:\")\n",
        "print(f\"Test: {test_case} | Browser: {browser} | Duration: {duration:.2f}s | Status: {status}\")\n",
        "\n",
        "# URL construction\n",
        "base_url = \"https://practiceautomatedtesting.com\"\n",
        "endpoint = \"login\"\n",
        "full_url = f\"{base_url}/{endpoint}\"\n",
        "print(f\"URL: {full_url}\")"
      ]
    },
    {
      "cell_type": "markdown",
      "metadata": {
        "id": "loops-section"
      },
      "source": [
        "## 3. Loops in Python\n",
        "\n",
        "Loops allow you to repeat code execution multiple times."
      ]
    },
    {
      "cell_type": "code",
      "execution_count": null,
      "metadata": {
        "id": "for-loops"
      },
      "outputs": [],
      "source": [
        "# For loop with range\n",
        "print(\"🔢 Counting with range:\")\n",
        "for i in range(5):\n",
        "    print(f\"  Count: {i}\")\n",
        "\n",
        "print(\"\\nRange with start and stop:\")\n",
        "for i in range(1, 6):\n",
        "    print(f\"  Number: {i}\")\n",
        "\n",
        "print(\"\\nRange with step:\")\n",
        "for i in range(0, 10, 2):\n",
        "    print(f\"  Even: {i}\")\n",
        "\n",
        "# For loop with lists\n",
        "fruits = [\"apple\", \"banana\", \"orange\", \"grape\"]\n",
        "print(f\"\\n🍎 Iterating through list:\")\n",
        "for fruit in fruits:\n",
        "    print(f\"  Fruit: {fruit}\")\n",
        "\n",
        "# For loop with enumerate\n",
        "print(f\"\\n📋 With index:\")\n",
        "for index, fruit in enumerate(fruits, 1):\n",
        "    print(f\"  {index}. {fruit}\")\n",
        "\n",
        "# For loop with dictionaries\n",
        "browser_configs = {\n",
        "    \"Chrome\": {\"version\": \"120\", \"headless\": True},\n",
        "    \"Firefox\": {\"version\": \"115\", \"headless\": False},\n",
        "    \"Safari\": {\"version\": \"16\", \"headless\": False}\n",
        "}\n",
        "\n",
        "print(f\"\\n🌐 Browser configurations:\")\n",
        "for browser, config in browser_configs.items():\n",
        "    print(f\"  {browser}: v{config['version']}, Headless: {config['headless']}\")"
      ]
    },
    {
      "cell_type": "code",
      "execution_count": null,
      "metadata": {
        "id": "while-loops"
      },
      "outputs": [],
      "source": [
        "# While loop basics\n",
        "print(\"🔄 While loop counting:\")\n",
        "counter = 0\n",
        "while counter < 5:\n",
        "    print(f\"  Counter: {counter}\")\n",
        "    counter += 1\n",
        "\n",
        "# While loop with break\n",
        "print(f\"\\n⏹️ While loop with break:\")\n",
        "number = 0\n",
        "while True:\n",
        "    number += 1\n",
        "    if number > 5:\n",
        "        break\n",
        "    print(f\"  Number: {number}\")\n",
        "\n",
        "# While loop with continue\n",
        "print(f\"\\n⏭️ While loop with continue:\")\n",
        "i = 0\n",
        "while i < 10:\n",
        "    i += 1\n",
        "    if i % 2 == 0:  # Skip even numbers\n",
        "        continue\n",
        "    print(f\"  Odd number: {i}\")\n",
        "\n",
        "# Practical example: Retry mechanism\n",
        "print(f\"\\n🔄 Retry mechanism simulation:\")\n",
        "max_attempts = 3\n",
        "attempt = 0\n",
        "success = False\n",
        "\n",
        "while attempt < max_attempts and not success:\n",
        "    attempt += 1\n",
        "    print(f\"  Attempt {attempt}/{max_attempts}\")\n",
        "    \n",
        "    # Simulate success on 2nd attempt\n",
        "    if attempt == 2:\n",
        "        success = True\n",
        "        print(\"  ✅ Success!\")\n",
        "    else:\n",
        "        print(\"  ❌ Failed, retrying...\")\n",
        "\n",
        "if not success:\n",
        "    print(\"  💥 All attempts failed!\")"
      ]
    },
    {
      "cell_type": "code",
      "execution_count": null,
      "metadata": {
        "id": "nested-loops"
      },
      "outputs": [],
      "source": [
        "# Nested loops\n",
        "print(\"🔢 Multiplication table (1-3):\")\n",
        "for i in range(1, 4):\n",
        "    for j in range(1, 4):\n",
        "        result = i * j\n",
        "        print(f\"  {i} x {j} = {result}\")\n",
        "    print()  # Empty line between tables\n",
        "\n",
        "# Nested loops with lists\n",
        "test_suites = [\"Login\", \"Search\", \"Checkout\"]\n",
        "browsers = [\"Chrome\", \"Firefox\", \"Safari\"]\n",
        "\n",
        "print(\"🧪 Test matrix:\")\n",
        "for suite in test_suites:\n",
        "    for browser in browsers:\n",
        "        print(f\"  Running {suite} tests on {browser}\")\n",
        "\n",
        "# Practical example: Element search\n",
        "print(f\"\\n🎯 Element search simulation:\")\n",
        "pages = [\"login\", \"dashboard\", \"profile\"]\n",
        "elements = [\"username\", \"password\", \"submit\"]\n",
        "\n",
        "for page in pages:\n",
        "    print(f\"  Searching on {page} page:\")\n",
        "    for element in elements:\n",
        "        print(f\"    Looking for {element} element\")\n",
        "    print()"
      ]
    },
    {
      "cell_type": "markdown",
      "metadata": {
        "id": "practical-examples"
      },
      "source": [
        "## 4. Practical Examples\n",
        "\n",
        "Combining numbers, strings, and loops in real-world scenarios."
      ]
    },
    {
      "cell_type": "code",
      "execution_count": null,
      "metadata": {
        "id": "test-data-generator"
      },
      "outputs": [],
      "source": [
        "# Test data generator\n",
        "def generate_test_users(count):\n",
        "    \"\"\"Generate test user data\"\"\"\n",
        "    users = []\n",
        "    for i in range(1, count + 1):\n",
        "        user = {\n",
        "            \"id\": i,\n",
        "            \"username\": f\"user{i:03d}\",\n",
        "            \"email\": f\"user{i:03d}@example.com\",\n",
        "            \"password\": f\"pass{i:03d}123\"\n",
        "        }\n",
        "        users.append(user)\n",
        "    return users\n",
        "\n",
        "# Generate test users\n",
        "test_users = generate_test_users(5)\n",
        "print(\"👥 Generated test users:\")\n",
        "for user in test_users:\n",
        "    print(f\"  ID: {user['id']}, Username: {user['username']}, Email: {user['email']}\")\n",
        "\n",
        "# URL generator\n",
        "def generate_test_urls(base_url, endpoints):\n",
        "    \"\"\"Generate test URLs\"\"\"\n",
        "    urls = []\n",
        "    for endpoint in endpoints:\n",
        "        url = f\"{base_url}/{endpoint}\"\n",
        "        urls.append(url)\n",
        "    return urls\n",
        "\n",
        "base_url = \"https://practiceautomatedtesting.com\"\n",
        "endpoints = [\"login\", \"dashboard\", \"profile\", \"settings\", \"logout\"]\n",
        "test_urls = generate_test_urls(base_url, endpoints)\n",
        "\n",
        "print(f\"\\n🌐 Generated test URLs:\")\n",
        "for i, url in enumerate(test_urls, 1):\n",
        "    print(f\"  {i}. {url}\")"
      ]
    },
    {
      "cell_type": "code",
      "execution_count": null,
      "metadata": {
        "id": "performance-analyzer"
      },
      "outputs": [],
      "source": [
        "import random\n",
        "import time\n",
        "\n",
        "# Performance analyzer\n",
        "def analyze_test_performance(test_results):\n",
        "    \"\"\"Analyze test performance data\"\"\"\n",
        "    if not test_results:\n",
        "        return None\n",
        "    \n",
        "    durations = [result['duration'] for result in test_results]\n",
        "    statuses = [result['status'] for result in test_results]\n",
        "    \n",
        "    analysis = {\n",
        "        'total_tests': len(test_results),\n",
        "        'passed': statuses.count('PASS'),\n",
        "        'failed': statuses.count('FAIL'),\n",
        "        'avg_duration': sum(durations) / len(durations),\n",
        "        'min_duration': min(durations),\n",
        "        'max_duration': max(durations),\n",
        "        'success_rate': (statuses.count('PASS') / len(statuses)) * 100\n",
        "    }\n",
        "    \n",
        "    return analysis\n",
        "\n",
        "# Generate sample test results\n",
        "test_results = []\n",
        "test_names = [\"Login Test\", \"Search Test\", \"Checkout Test\", \"Logout Test\"]\n",
        "\n",
        "for i, name in enumerate(test_names):\n",
        "    result = {\n",
        "        'name': name,\n",
        "        'duration': round(random.uniform(1.0, 5.0), 2),\n",
        "        'status': 'PASS' if random.random() > 0.2 else 'FAIL'\n",
        "    }\n",
        "    test_results.append(result)\n",
        "\n",
        "# Analyze results\n",
        "analysis = analyze_test_performance(test_results)\n",
        "\n",
        "print(\"📊 Test Performance Analysis:\")\n",
        "print(f\"Total Tests: {analysis['total_tests']}\")\n",
        "print(f\"Passed: {analysis['passed']}\")\n",
        "print(f\"Failed: {analysis['failed']}\")\n",
        "print(f\"Success Rate: {analysis['success_rate']:.1f}%\")\n",
        "print(f\"Average Duration: {analysis['avg_duration']:.2f}s\")\n",
        "print(f\"Min Duration: {analysis['min_duration']:.2f}s\")\n",
        "print(f\"Max Duration: {analysis['max_duration']:.2f}s\")\n",
        "\n",
        "print(f\"\\n📋 Detailed Results:\")\n",
        "for result in test_results:\n",
        "    status_icon = \"✅\" if result['status'] == 'PASS' else \"❌\"\n",
        "    print(f\"  {status_icon} {result['name']}: {result['duration']}s ({result['status']})\")"
      ]
    },
    {
      "cell_type": "markdown",
      "metadata": {
        "id": "next-steps"
      },
      "source": [
        "## Next Steps\n",
        "\n",
        "Congratulations! You've mastered Python loops, numbers, and strings. Next steps:\n",
        "\n",
        "1. **Practice with Real Projects** - Apply these concepts to actual test automation\n",
        "2. **Learn Data Structures** - Lists, dictionaries, sets, and tuples\n",
        "3. **Study Functions** - Function definition, parameters, and return values\n",
        "4. **Explore File Operations** - Reading and writing files\n",
        "5. **Practice Error Handling** - Try-except blocks and exception handling\n",
        "\n",
        "These fundamental concepts are essential for all Python programming and test automation work!"
      ]
    }
  ]
}
