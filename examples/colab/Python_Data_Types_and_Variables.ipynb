{
 "cells": [
  {
   "cell_type": "markdown",
   "metadata": {},
   "source": [
    "# Python Data Types and Variables Explained\n",
    "\n",
    "Python offers a wide variety of built-in data types that make it versatile for many tasks. In this lesson, we will explore the most common data types and how to work with variables in Python.\n",
    "\n",
    "## \ud83c\udfaf Learning Objectives\n",
    "\n",
    "- \u2705 Understand Python's built-in data types\n",
    "- \u2705 Learn how to work with variables and type conversion\n",
    "- \u2705 Master string manipulation techniques\n",
    "- \u2705 Practice with lists, tuples, dictionaries, and sets\n",
    "- \u2705 Apply data types to real-world scenarios"
   ]
  },
  {
   "cell_type": "markdown",
   "metadata": {},
   "source": [
    "## 1. Numbers\n",
    "\n",
    "Python supports multiple numeric types:\n",
    "- **Integers (int):** Whole numbers without decimals\n",
    "- **Floating Point Numbers (float):** Numbers with decimals\n",
    "- **Complex Numbers (complex):** Numbers with a real and imaginary part, denoted as `a + bj`"
   ]
  },
  {
   "cell_type": "code",
   "execution_count": null,
   "metadata": {},
   "outputs": [],
   "source": [
    "# Integer numbers\n",
    "int_number = 5\n",
    "print(f\"Integer: {int_number}, Type: {type(int_number)}\")\n",
    "\n",
    "# Floating point numbers\n",
    "float_number = 5.0\n",
    "print(f\"Float: {float_number}, Type: {type(float_number)}\")\n",
    "\n",
    "# Complex numbers\n",
    "complex_number = 3 + 4j\n",
    "print(f\"Complex: {complex_number}, Type: {type(complex_number)}\")\n",
    "\n",
    "# Mathematical operations\n",
    "a = 10\n",
    "b = 3\n",
    "print(f\"Addition: {a} + {b} = {a + b}\")\n",
    "print(f\"Division: {a} / {b} = {a / b}\")\n",
    "print(f\"Floor Division: {a} // {b} = {a // b}\")\n",
    "print(f\"Modulus: {a} % {b} = {a % b}\")\n",
    "print(f\"Power: {a} ** {b} = {a ** b}\")"
   ]
  },
  {
   "cell_type": "markdown",
   "metadata": {},
   "source": [
    "## 2. Boolean (bool)\n",
    "\n",
    "Booleans represent truth values: `True` or `False`. They are often used in conditional statements."
   ]
  },
  {
   "cell_type": "code",
   "execution_count": null,
   "metadata": {},
   "outputs": [],
   "source": [
    "# Boolean values\n",
    "is_valid = True\n",
    "is_complete = False\n",
    "print(f\"is_valid: {is_valid}, Type: {type(is_valid)}\")\n",
    "print(f\"is_complete: {is_complete}, Type: {type(is_complete)}\")\n",
    "\n",
    "# Boolean expressions\n",
    "x = 5\n",
    "y = 10\n",
    "print(f\"{x} > {y}: {x > y}\")\n",
    "print(f\"{x} < {y}: {x < y}\")\n",
    "print(f\"{x} == {y}: {x == y}\")\n",
    "print(f\"{x} != {y}: {x != y}\")"
   ]
  },
  {
   "cell_type": "markdown",
   "metadata": {},
   "source": [
    "## 3. Strings (str)\n",
    "\n",
    "Strings are ordered sequences of characters used for representing text. They are immutable, meaning they cannot be changed after creation."
   ]
  },
  {
   "cell_type": "code",
   "execution_count": null,
   "metadata": {},
   "outputs": [],
   "source": [
    "# String creation\n",
    "name = \"John Doe\"\n",
    "message = 'Hello, World!'\n",
    "multi_line = \"\"\"This is a\n",
    "multi-line string\"\"\"\n",
    "\n",
    "print(f\"Name: {name}, Type: {type(name)}\")\n",
    "print(f\"Message: {message}\")\n",
    "print(f\"Multi-line: {multi_line}\")\n",
    "\n",
    "# String operations\n",
    "print(f\"Length of name: {len(name)}\")\n",
    "print(f\"Uppercase: {name.upper()}\")\n",
    "print(f\"Lowercase: {name.lower()}\")\n",
    "print(f\"First character: {name[0]}\")\n",
    "print(f\"Last character: {name[-1]}\")\n",
    "print(f\"Substring (0:4): {name[0:4]}\")"
   ]
  },
  {
   "cell_type": "markdown",
   "metadata": {},
   "source": [
    "### String Manipulation Example"
   ]
  },
  {
   "cell_type": "code",
   "execution_count": null,
   "metadata": {},
   "outputs": [],
   "source": [
    "greeting = \"Hello, world!\"\n",
    "uppercase_greeting = greeting.upper()\n",
    "personalized_greeting = greeting.replace(\"world\", \"Alice\")\n",
    "reversed_greeting = personalized_greeting[::-1]\n",
    "\n",
    "print(f\"Original: {greeting}\")\n",
    "print(f\"Uppercase: {uppercase_greeting}\")\n",
    "print(f\"Personalized: {personalized_greeting}\")\n",
    "print(f\"Reversed: {reversed_greeting}\")"
   ]
  },
  {
   "cell_type": "markdown",
   "metadata": {},
   "source": [
    "## 4. Lists (list)\n",
    "\n",
    "Lists are ordered and mutable collections of items. Items within a list can be of different types. Lists are defined using square brackets."
   ]
  },
  {
   "cell_type": "code",
   "execution_count": null,
   "metadata": {},
   "outputs": [],
   "source": [
    "# Creating lists\n",
    "fruits = [\"apple\", \"banana\", \"cherry\"]\n",
    "numbers = [1, 2, 3, 4, 5]\n",
    "mixed_list = [1, \"hello\", 3.14, True]\n",
    "\n",
    "print(f\"Fruits: {fruits}, Type: {type(fruits)}\")\n",
    "print(f\"Numbers: {numbers}\")\n",
    "print(f\"Mixed list: {mixed_list}\")\n",
    "\n",
    "# List operations\n",
    "print(f\"Length: {len(fruits)}\")\n",
    "print(f\"First element: {fruits[0]}\")\n",
    "print(f\"Last element: {fruits[-1]}\")\n",
    "print(f\"Slice (0:2): {fruits[0:2]}\")"
   ]
  },
  {
   "cell_type": "markdown",
   "metadata": {},
   "source": [
    "### List Manipulation Example"
   ]
  },
  {
   "cell_type": "code",
   "execution_count": null,
   "metadata": {},
   "outputs": [],
   "source": [
    "numbers = [1, 2, 3, 4, 5]\n",
    "print(f\"Original list: {numbers}\")\n",
    "\n",
    "# Adding elements\n",
    "numbers.append(6)\n",
    "print(f\"After append: {numbers}\")\n",
    "\n",
    "numbers.insert(0, 0)\n",
    "print(f\"After insert: {numbers}\")\n",
    "\n",
    "# Removing elements\n",
    "removed = numbers.pop()\n",
    "print(f\"Removed {removed}: {numbers}\")\n",
    "\n",
    "numbers.remove(2)\n",
    "print(f\"After removing 2: {numbers}\")\n",
    "\n",
    "# Sorting\n",
    "numbers.sort()\n",
    "print(f\"Sorted: {numbers}\")\n",
    "\n",
    "numbers.reverse()\n",
    "print(f\"Reversed: {numbers}\")"
   ]
  },
  {
   "cell_type": "markdown",
   "metadata": {},
   "source": [
    "## 5. Tuples (tuple)\n",
    "\n",
    "Tuples are ordered collections like lists, but they are **immutable**. Tuples are created using parentheses."
   ]
  },
  {
   "cell_type": "code",
   "execution_count": null,
   "metadata": {},
   "outputs": [],
   "source": [
    "# Creating tuples\n",
    "point = (1, 2, 3)\n",
    "person = (\"John\", 25, \"Engineer\")\n",
    "single_element = (42,)\n",
    "\n",
    "print(f\"Point: {point}, Type: {type(point)}\")\n",
    "print(f\"Person: {person}\")\n",
    "print(f\"Single element: {single_element}\")\n",
    "\n",
    "# Tuple operations\n",
    "print(f\"Length: {len(point)}\")\n",
    "print(f\"First element: {point[0]}\")\n",
    "print(f\"Slice (0:2): {point[0:2]}\")\n",
    "\n",
    "# Unpacking tuples\n",
    "x, y, z = point\n",
    "print(f\"Unpacked: x={x}, y={y}, z={z}\")"
   ]
  },
  {
   "cell_type": "markdown",
   "metadata": {},
   "source": [
    "### Tuple Immutability Example"
   ]
  },
  {
   "cell_type": "code",
   "execution_count": null,
   "metadata": {},
   "outputs": [],
   "source": [
    "my_tuple = (1, 2, 3)\n",
    "print(f\"Original tuple: {my_tuple}\")\n",
    "\n",
    "try:\n",
    "    my_tuple[1] = 4  # This will raise a TypeError\n",
    "except TypeError as e:\n",
    "    print(f\"Error: {e}\")\n",
    "    print(\"Tuples are immutable and cannot be modified!\")"
   ]
  },
  {
   "cell_type": "markdown",
   "metadata": {},
   "source": [
    "## 6. Dictionaries (dict)\n",
    "\n",
    "Dictionaries store key-value pairs. Keys must be unique and immutable, but values can be of any data type."
   ]
  },
  {
   "cell_type": "code",
   "execution_count": null,
   "metadata": {},
   "outputs": [],
   "source": [
    "# Creating dictionaries\n",
    "person = {\"name\": \"Alice\", \"age\": 25}\n",
    "student = {\n",
    "    \"name\": \"Bob\",\n",
    "    \"age\": 20,\n",
    "    \"grades\": [85, 92, 78],\n",
    "    \"is_active\": True\n",
    "}\n",
    "\n",
    "print(f\"Person: {person}, Type: {type(person)}\")\n",
    "print(f\"Student: {student}\")\n",
    "\n",
    "# Accessing dictionary values\n",
    "print(f\"Name: {person['name']}\")\n",
    "print(f\"Age: {person.get('age')}\")\n",
    "print(f\"City: {person.get('city', 'Unknown')}\")  # Default value"
   ]
  },
  {
   "cell_type": "markdown",
   "metadata": {},
   "source": [
    "### Dictionary Manipulation Example"
   ]
  },
  {
   "cell_type": "code",
   "execution_count": null,
   "metadata": {},
   "outputs": [],
   "source": [
    "person = {\"name\": \"John\", \"age\": 30, \"city\": \"New York\"}\n",
    "print(f\"Original: {person}\")\n",
    "\n",
    "# Adding new key-value pairs\n",
    "person[\"occupation\"] = \"Software Developer\"\n",
    "print(f\"After adding occupation: {person}\")\n",
    "\n",
    "# Updating values\n",
    "person[\"age\"] = 31\n",
    "print(f\"After updating age: {person}\")\n",
    "\n",
    "# Removing items\n",
    "removed_city = person.pop(\"city\")\n",
    "print(f\"Removed city '{removed_city}': {person}\")\n",
    "\n",
    "# Dictionary methods\n",
    "print(f\"Keys: {list(person.keys())}\")\n",
    "print(f\"Values: {list(person.values())}\")\n",
    "print(f\"Items: {list(person.items())}\")"
   ]
  },
  {
   "cell_type": "markdown",
   "metadata": {},
   "source": [
    "## 7. Sets (set)\n",
    "\n",
    "Sets are unordered collections of unique elements. They are useful for eliminating duplicates and performing mathematical operations like unions and intersections."
   ]
  },
  {
   "cell_type": "code",
   "execution_count": null,
   "metadata": {},
   "outputs": [],
   "source": [
    "# Creating sets\n",
    "colors = {\"red\", \"blue\", \"green\"}\n",
    "numbers = {1, 2, 3, 4, 5}\n",
    "from_list = set([1, 2, 2, 3, 3, 4])  # Duplicates are removed\n",
    "\n",
    "print(f\"Colors: {colors}, Type: {type(colors)}\")\n",
    "print(f\"Numbers: {numbers}\")\n",
    "print(f\"From list (duplicates removed): {from_list}\")\n",
    "\n",
    "# Set operations\n",
    "colors.add(\"yellow\")\n",
    "print(f\"After adding yellow: {colors}\")\n",
    "\n",
    "colors.remove(\"blue\")\n",
    "print(f\"After removing blue: {colors}\")\n",
    "\n",
    "print(f\"Length: {len(colors)}\")\n",
    "print(f\"Contains 'red': {'red' in colors}\")"
   ]
  },
  {
   "cell_type": "markdown",
   "metadata": {},
   "source": [
    "### Set Operations Example"
   ]
  },
  {
   "cell_type": "code",
   "execution_count": null,
   "metadata": {},
   "outputs": [],
   "source": [
    "set1 = {1, 2, 3, 4, 5}\n",
    "set2 = {4, 5, 6, 7, 8}\n",
    "\n",
    "print(f\"Set 1: {set1}\")\n",
    "print(f\"Set 2: {set2}\")\n",
    "\n",
    "# Union\n",
    "union = set1 | set2\n",
    "print(f\"Union: {union}\")\n",
    "\n",
    "# Intersection\n",
    "intersection = set1 & set2\n",
    "print(f\"Intersection: {intersection}\")\n",
    "\n",
    "# Difference\n",
    "difference = set1 - set2\n",
    "print(f\"Difference (set1 - set2): {difference}\")\n",
    "\n",
    "# Symmetric difference\n",
    "symmetric_diff = set1 ^ set2\n",
    "print(f\"Symmetric difference: {symmetric_diff}\")"
   ]
  },
  {
   "cell_type": "markdown",
   "metadata": {},
   "source": [
    "## Type Conversion in Python\n",
    "\n",
    "Python provides built-in functions for converting between data types:"
   ]
  },
  {
   "cell_type": "code",
   "execution_count": null,
   "metadata": {},
   "outputs": [],
   "source": [
    "# String to number\n",
    "str_number = \"123\"\n",
    "int_number = int(str_number)\n",
    "float_number = float(str_number)\n",
    "print(f\"String '{str_number}' -> int: {int_number}, float: {float_number}\")\n",
    "\n",
    "# Number to string\n",
    "number = 42\n",
    "str_number = str(number)\n",
    "print(f\"Number {number} -> string: '{str_number}'\")\n",
    "\n",
    "# List to tuple and set\n",
    "my_list = [1, 2, 3, 4, 5]\n",
    "my_tuple = tuple(my_list)\n",
    "my_set = set(my_list)\n",
    "print(f\"List {my_list} -> tuple: {my_tuple}\")\n",
    "print(f\"List {my_list} -> set: {my_set}\")\n",
    "\n",
    "# Boolean conversion\n",
    "print(f\"bool(0): {bool(0)}\")\n",
    "print(f\"bool(1): {bool(1)}\")\n",
    "print(f\"bool(''): {bool('')}\")\n",
    "print(f\"bool('hello'): {bool('hello')}\")\n",
    "print(f\"bool([]): {bool([])}\")\n",
    "print(f\"bool([1, 2]): {bool([1, 2])}\")"
   ]
  },
  {
   "cell_type": "markdown",
   "metadata": {},
   "source": [
    "## Variables in Python\n",
    "\n",
    "Variables in Python are names that refer to data stored in memory. Python uses **dynamic typing**, meaning the type of the variable can change depending on what is assigned to it."
   ]
  },
  {
   "cell_type": "code",
   "execution_count": null,
   "metadata": {},
   "outputs": [],
   "source": [
    "# Dynamic typing example\n",
    "x = 10\n",
    "print(f\"x = {x}, Type: {type(x)}\")\n",
    "\n",
    "x = \"Hello\"\n",
    "print(f\"x = {x}, Type: {type(x)}\")\n",
    "\n",
    "x = [1, 2, 3]\n",
    "print(f\"x = {x}, Type: {type(x)}\")\n",
    "\n",
    "# Multiple assignment\n",
    "a, b, c = 1, 2, 3\n",
    "print(f\"a={a}, b={b}, c={c}\")\n",
    "\n",
    "# Variable naming conventions\n",
    "user_name = \"John\"  # snake_case (recommended)\n",
    "userAge = 25         # camelCase\n",
    "USER_ID = 12345      # UPPER_CASE (constants)\n",
    "\n",
    "print(f\"user_name: {user_name}\")\n",
    "print(f\"userAge: {userAge}\")\n",
    "print(f\"USER_ID: {USER_ID}\")"
   ]
  },
  {
   "cell_type": "markdown",
   "metadata": {},
   "source": [
    "## \ud83c\udfcb\ufe0f Practice Exercises\n",
    "\n",
    "Now let's practice with some exercises to reinforce your learning!"
   ]
  },
  {
   "cell_type": "markdown",
   "metadata": {},
   "source": [
    "### Exercise 1: Basic Variables and Types\n",
    "\n",
    "Create variables of each type (int, float, str, bool) and print their types using the `type()` function."
   ]
  },
  {
   "cell_type": "code",
   "execution_count": null,
   "metadata": {},
   "outputs": [],
   "source": [
    "# Your code here\n",
    "# Create variables of different types\n",
    "\n",
    "# Integer\n",
    "age = 25\n",
    "print(f\"age = {age}, Type: {type(age)}\")\n",
    "\n",
    "# Float\n",
    "height = 5.9\n",
    "print(f\"height = {height}, Type: {type(height)}\")\n",
    "\n",
    "# String\n",
    "name = \"Alice\"\n",
    "print(f\"name = {name}, Type: {type(name)}\")\n",
    "\n",
    "# Boolean\n",
    "is_student = True\n",
    "print(f\"is_student = {is_student}, Type: {type(is_student)}\")"
   ]
  },
  {
   "cell_type": "markdown",
   "metadata": {},
   "source": [
    "### Exercise 2: List Operations\n",
    "\n",
    "Create a list of five integers. Perform the following:\n",
    "- Print the list\n",
    "- Append an element\n",
    "- Print the third and fourth elements"
   ]
  },
  {
   "cell_type": "code",
   "execution_count": null,
   "metadata": {},
   "outputs": [],
   "source": [
    "# Your code here\n",
    "numbers = [1, 2, 3, 4, 5]\n",
    "print(f\"Original list: {numbers}\")\n",
    "\n",
    "numbers.append(6)\n",
    "print(f\"After append: {numbers}\")\n",
    "\n",
    "print(f\"Third element: {numbers[2]}\")\n",
    "print(f\"Fourth element: {numbers[3]}\")"
   ]
  },
  {
   "cell_type": "markdown",
   "metadata": {},
   "source": [
    "### Exercise 3: String Manipulation\n",
    "\n",
    "Given the string `\"Hello, world!\"`, perform the following:\n",
    "- Convert it to lowercase\n",
    "- Replace `\"Hello, \"` with `\"Perfect\"`\n",
    "- Reverse the string"
   ]
  },
  {
   "cell_type": "code",
   "execution_count": null,
   "metadata": {},
   "outputs": [],
   "source": [
    "# Your code here\n",
    "greeting = \"Hello, world!\"\n",
    "print(f\"Original: {greeting}\")\n",
    "\n",
    "lowercase = greeting.lower()\n",
    "print(f\"Lowercase: {lowercase}\")\n",
    "\n",
    "replaced = greeting.replace(\"Hello, \", \"Perfect\")\n",
    "print(f\"Replaced: {replaced}\")\n",
    "\n",
    "reversed_str = greeting[::-1]\n",
    "print(f\"Reversed: {reversed_str}\")"
   ]
  },
  {
   "cell_type": "markdown",
   "metadata": {},
   "source": [
    "### Exercise 4: Dictionary Lookup\n",
    "\n",
    "Create a dictionary with keys `name`, `age`, and `city`. Print the entire dictionary, access the age, and add an occupation."
   ]
  },
  {
   "cell_type": "code",
   "execution_count": null,
   "metadata": {},
   "outputs": [],
   "source": [
    "# Your code here\n",
    "person = {\"name\": \"John\", \"age\": 30, \"city\": \"New York\"}\n",
    "print(f\"Original dictionary: {person}\")\n",
    "\n",
    "age = person[\"age\"]\n",
    "print(f\"Age: {age}\")\n",
    "\n",
    "person[\"occupation\"] = \"Developer\"\n",
    "print(f\"After adding occupation: {person}\")"
   ]
  },
  {
   "cell_type": "markdown",
   "metadata": {},
   "source": [
    "### Exercise 5: Tuple and Set Operations\n",
    "\n",
    "Create a tuple with elements `(10, 20, 30, 40, 50)`, convert it to a set, and add an element to the set."
   ]
  },
  {
   "cell_type": "code",
   "execution_count": null,
   "metadata": {},
   "outputs": [],
   "source": [
    "# Your code here\n",
    "my_tuple = (10, 20, 30, 40, 50)\n",
    "print(f\"Original tuple: {my_tuple}\")\n",
    "\n",
    "my_set = set(my_tuple)\n",
    "print(f\"Converted to set: {my_set}\")\n",
    "\n",
    "my_set.add(60)\n",
    "print(f\"After adding 60: {my_set}\")"
   ]
  },
  {
   "cell_type": "markdown",
   "metadata": {},
   "source": [
    "### Exercise 6: Type Conversion and Calculation\n",
    "\n",
    "Given the list of strings `[\"1\", \"2\", \"3\", \"4\"]`, convert each string to an integer, sum them, and print the result."
   ]
  },
  {
   "cell_type": "code",
   "execution_count": null,
   "metadata": {},
   "outputs": [],
   "source": [
    "# Your code here\n",
    "string_numbers = [\"1\", \"2\", \"3\", \"4\"]\n",
    "print(f\"Original strings: {string_numbers}\")\n",
    "\n",
    "# Method 1: List comprehension\n",
    "int_numbers = [int(num) for num in string_numbers]\n",
    "print(f\"Converted to integers: {int_numbers}\")\n",
    "\n",
    "total = sum(int_numbers)\n",
    "print(f\"Sum: {total}\")\n",
    "\n",
    "# Method 2: Using map function\n",
    "int_numbers_2 = list(map(int, string_numbers))\n",
    "total_2 = sum(int_numbers_2)\n",
    "print(f\"Sum (using map): {total_2}\")"
   ]
  },
  {
   "cell_type": "markdown",
   "metadata": {},
   "source": [
    "## \ud83d\udcda Summary\n",
    "\n",
    "In this notebook, you've learned about Python's fundamental data types and variables:\n",
    "\n",
    "### \u2705 Data Types Covered:\n",
    "- **Numbers**: int, float, complex\n",
    "- **Boolean**: True/False values\n",
    "- **Strings**: Text data (immutable)\n",
    "- **Lists**: Ordered, mutable collections\n",
    "- **Tuples**: Ordered, immutable collections\n",
    "- **Dictionaries**: Key-value pairs\n",
    "- **Sets**: Unordered, unique collections\n",
    "\n",
    "### \u2705 Key Concepts:\n",
    "- **Dynamic typing**: Variables can change type\n",
    "- **Type conversion**: Converting between data types\n",
    "- **Immutability**: Strings and tuples cannot be modified\n",
    "- **Mutability**: Lists, dictionaries, and sets can be modified\n",
    "\n",
    "### \u2705 Practical Skills:\n",
    "- Creating and manipulating different data types\n",
    "- String manipulation techniques\n",
    "- List and dictionary operations\n",
    "- Set operations and mathematical operations\n",
    "- Type conversion and validation\n",
    "\n",
    "---\n",
    "\n",
    "**Next Steps:**\n",
    "- Practice with the exercises above\n",
    "- Explore more advanced data structures\n",
    "- Learn about operators and control flow\n",
    "- Apply these concepts to real-world projects\n",
    "\n",
    "Happy coding! \ud83d\udc0d\u2728"
   ]
  }
 ],
 "metadata": {
  "kernelspec": {
   "display_name": "Python 3",
   "language": "python",
   "name": "python3"
  },
  "language_info": {
   "codemirror_mode": {
    "name": "ipython",
    "version": 3
   },
   "file_extension": ".py",
   "mimetype": "text/x-python",
   "name": "python",
   "nbconvert_exporter": "python",
   "pygments_lexer": "ipython3",
   "version": "3.8.5"
  }
 },
 "nbformat": 4,
 "nbformat_minor": 4
}