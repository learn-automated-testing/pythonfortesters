{
 "cells": [
  {
   "cell_type": "markdown",
   "metadata": {},
   "source": [
    "# \ud83e\udde0 Mastering Object-Oriented Programming (OOP) in Python\n",
    "\n",
    "Object-Oriented Programming (OOP) is a foundational programming paradigm in Python. This all-in-one lesson is designed to give you a solid grasp of classes, objects, encapsulation, inheritance, and polymorphism in one practical, comprehensive session."
   ]
  },
  {
   "cell_type": "markdown",
   "metadata": {},
   "source": [
    "## \ud83c\udfaf Lesson Objectives\n",
    "- Understand what OOP is and why it's useful.\n",
    "- Learn to define and instantiate classes and objects.\n",
    "- Explore constructors, attributes, and methods.\n",
    "- Apply encapsulation to protect internal state.\n",
    "- Use inheritance to extend functionality.\n",
    "- Implement polymorphism to write flexible code.\n",
    "- See how OOP principles apply to test automation."
   ]
  },
  {
   "cell_type": "markdown",
   "metadata": {},
   "source": [
    "## \ud83d\udcd8 What is Object-Oriented Programming?\n",
    "\n",
    "OOP is a paradigm where we structure programs around \"objects\"\u2014bundles of related data and functionality. Each object is an instance of a class, which acts like a blueprint.\n",
    "\n",
    "### Why OOP?\n",
    "- Improves **modularity**\n",
    "- Enhances **code reuse**\n",
    "- Makes **maintenance** easier\n",
    "- Enables **abstraction and data hiding**"
   ]
  },
  {
   "cell_type": "markdown",
   "metadata": {},
   "source": [
    "## \ud83e\uddf1 Defining Classes and Creating Objects\n",
    "\n",
    "A class is a blueprint for creating objects. Each object is an instance of a class.\n"
   ]
  },
  {
   "cell_type": "code",
   "metadata": {},
   "source": [
    "class Person:\n",
    "    def __init__(self, name, age):\n",
    "        self.name = name\n",
    "        self.age = age\n",
    "\n",
    "    def greet(self):\n",
    "        return f\"Hello, my name is {self.name} and I am {self.age} years old.\"\n",
    "\n",
    "# Creating an object\n",
    "p1 = Person(\"Alice\", 30)\n",
    "print(p1.greet())"
   ]
  },
  {
   "cell_type": "markdown",
   "metadata": {},
   "source": [
    "## \ud83d\udd10 Encapsulation\n",
    "\n",
    "Encapsulation means restricting direct access to some of an object's components. Use single underscore `_` for protected members and double underscore `__` for private members.\n"
   ]
  },
  {
   "cell_type": "code",
   "metadata": {},
   "source": [
    "class BankAccount:\n",
    "    def __init__(self, balance):\n",
    "        self.__balance = balance  # private attribute\n",
    "\n",
    "    def deposit(self, amount):\n",
    "        if amount > 0:\n",
    "            self.__balance += amount\n",
    "\n",
    "    def get_balance(self):\n",
    "        return self.__balance\n",
    "\n",
    "account = BankAccount(1000)\n",
    "account.deposit(500)\n",
    "print(account.get_balance())  # 1500"
   ]
  },
  {
   "cell_type": "markdown",
   "metadata": {},
   "source": [
    "## \ud83c\udfd7\ufe0f Inheritance\n",
    "\n",
    "Inheritance allows one class (child) to inherit the attributes and methods of another (parent).\n"
   ]
  },
  {
   "cell_type": "code",
   "metadata": {},
   "source": [
    "class Animal:\n",
    "    def speak(self):\n",
    "        return \"Some sound\"\n",
    "\n",
    "class Dog(Animal):\n",
    "    def speak(self):\n",
    "        return \"Woof\"\n",
    "\n",
    "pet = Dog()\n",
    "print(pet.speak())  # Woof"
   ]
  },
  {
   "cell_type": "markdown",
   "metadata": {},
   "source": [
    "## \ud83c\udfad Polymorphism\n",
    "\n",
    "Polymorphism allows the same interface to behave differently depending on the object.\n"
   ]
  },
  {
   "cell_type": "code",
   "metadata": {},
   "source": [
    "class Cat:\n",
    "    def sound(self):\n",
    "        return \"Meow\"\n",
    "\n",
    "class Dog:\n",
    "    def sound(self):\n",
    "        return \"Bark\"\n",
    "\n",
    "def animal_sound(animal):\n",
    "    print(animal.sound())\n",
    "\n",
    "animal_sound(Cat())  # Meow\n",
    "animal_sound(Dog())  # Bark"
   ]
  },
  {
   "cell_type": "markdown",
   "metadata": {},
   "source": [
    "## \ud83e\uddea Final Project: Library System\n",
    "\n",
    "Combine all concepts into a mini project.\n"
   ]
  },
  {
   "cell_type": "code",
   "metadata": {},
   "source": [
    "class Book:\n",
    "    def __init__(self, title, author):\n",
    "        self.title = title\n",
    "        self.author = author\n",
    "\n",
    "class Member:\n",
    "    def __init__(self, name):\n",
    "        self.name = name\n",
    "        self.books = []\n",
    "\n",
    "    def borrow_book(self, book):\n",
    "        self.books.append(book)\n",
    "\n",
    "    def list_books(self):\n",
    "        return [book.title for book in self.books]\n",
    "\n",
    "book1 = Book(\"1984\", \"George Orwell\")\n",
    "book2 = Book(\"Python 101\", \"John Doe\")\n",
    "m = Member(\"Alice\")\n",
    "m.borrow_book(book1)\n",
    "m.borrow_book(book2)\n",
    "print(m.list_books())  # ['1984', 'Python 101']"
   ]
  },
  {
   "cell_type": "markdown",
   "metadata": {},
   "source": [
    "## \ud83e\uddea Application of OOP in Test Automation\n",
    "\n",
    "Object-Oriented Programming is extremely useful in test automation, particularly with frameworks like `unittest`, `pytest`, and `Selenium`.\n",
    "\n",
    "### Benefits:\n",
    "- **Test Case Organization**: Each test scenario can be encapsulated in a class.\n",
    "- **Reusable Components**: Page Object Model (POM) uses classes to represent pages, with methods as interactions.\n",
    "- **Maintainability**: Changing logic in one place updates all affected tests.\n"
   ]
  },
  {
   "cell_type": "code",
   "metadata": {},
   "source": [
    "# Example: Using POM with Selenium\n",
    "class LoginPage:\n",
    "    def __init__(self, driver):\n",
    "        self.driver = driver\n",
    "\n",
    "    def enter_username(self, username):\n",
    "        self.driver.find_element(\"id\", \"username\").send_keys(username)\n",
    "\n",
    "    def enter_password(self, password):\n",
    "        self.driver.find_element(\"id\", \"password\").send_keys(password)\n",
    "\n",
    "    def click_login(self):\n",
    "        self.driver.find_element(\"id\", \"login\").click()\n",
    "\n",
    "# In your test file:\n",
    "# login_page = LoginPage(driver)\n",
    "# login_page.enter_username(\"testuser\")\n",
    "# login_page.enter_password(\"password123\")\n",
    "# login_page.click_login()"
   ]
  },
  {
   "cell_type": "markdown",
   "metadata": {},
   "source": [
    "## \ud83d\udccc Summary: The 4 Pillars of OOP\n",
    "\n",
    "| Concept        | Description                                     |\n",
    "|----------------|-------------------------------------------------|\n",
    "| Encapsulation  | Hide internal state, expose behavior via methods |\n",
    "| Abstraction    | Simplify complexity using meaningful classes    |\n",
    "| Inheritance    | Share and override functionality                |\n",
    "| Polymorphism   | Use one interface for many implementations      |\n",
    "\n",
    "---\n",
    "\n",
    "Congratulations! \ud83c\udf89 You've completed a crash course in OOP with Python. Practice regularly to reinforce your skills and explore more complex use cases!"
   ]
  }
 ],
 "metadata": {
  "kernelspec": {
   "display_name": "Python 3",
   "language": "python",
   "name": "python3"
  },
  "language_info": {
   "name": "python",
   "version": "3.8"
  }
 },
 "nbformat": 4,
 "nbformat_minor": 4
}